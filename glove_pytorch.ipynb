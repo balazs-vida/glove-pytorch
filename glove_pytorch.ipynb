{
 "cells": [
  {
   "cell_type": "code",
   "execution_count": 31,
   "metadata": {
    "collapsed": true
   },
   "outputs": [],
   "source": [
    "%matplotlib inline\n",
    "import matplotlib.pyplot as plt"
   ]
  },
  {
   "cell_type": "code",
   "execution_count": 32,
   "metadata": {
    "collapsed": false
   },
   "outputs": [
    {
     "data": {
      "text/plain": [
       "<torch._C.Generator at 0x762c2d0>"
      ]
     },
     "execution_count": 32,
     "metadata": {},
     "output_type": "execute_result"
    }
   ],
   "source": [
    "import torch\n",
    "import torch.nn as nn\n",
    "import torch.optim as optim\n",
    "import numpy as np\n",
    "from torch.autograd import Variable\n",
    "\n",
    "torch.manual_seed(1)"
   ]
  },
  {
   "cell_type": "code",
   "execution_count": 33,
   "metadata": {
    "collapsed": true
   },
   "outputs": [],
   "source": [
    "from nltk.tokenize import word_tokenize"
   ]
  },
  {
   "cell_type": "code",
   "execution_count": 34,
   "metadata": {
    "collapsed": true
   },
   "outputs": [],
   "source": [
    "from tqdm import tqdm"
   ]
  },
  {
   "cell_type": "markdown",
   "metadata": {},
   "source": [
    "#### Data processing"
   ]
  },
  {
   "cell_type": "code",
   "execution_count": 35,
   "metadata": {
    "collapsed": false
   },
   "outputs": [
    {
     "name": "stdout",
     "output_type": "stream",
     "text": [
      "# of tokens:  5526 \n",
      " ['the', 'last', 'question', 'was', 'asked', 'for', 'the', 'first', 'time', ',']\n"
     ]
    }
   ],
   "source": [
    "# Open and read in text\n",
    "text_file = open('short_story.txt', 'r')\n",
    "raw_text = text_file.read().lower()\n",
    "text_file.close()\n",
    "\n",
    "# Create tokenized text (list) and vocabulary (set of unique words)\n",
    "token_text = word_tokenize(raw_text)\n",
    "len_token_text = len(token_text)\n",
    "\n",
    "print(\"# of tokens: \", len(token_text), '\\n', token_text[:10])"
   ]
  },
  {
   "cell_type": "code",
   "execution_count": 36,
   "metadata": {
    "collapsed": false
   },
   "outputs": [
    {
     "name": "stdout",
     "output_type": "stream",
     "text": [
      "size of vocabulary:  1115\n"
     ]
    }
   ],
   "source": [
    "# set of vocab items\n",
    "vocab = set(token_text)\n",
    "vocab_size = len(vocab)\n",
    "print(\"size of vocabulary: \", vocab_size)\n",
    "\n",
    "# dictionaries mapping from word to index and vica versa\n",
    "word_to_ix = {word: i for i, word in enumerate(vocab)}\n",
    "ix_to_word = {i: word for i, word in enumerate(vocab)}"
   ]
  },
  {
   "cell_type": "code",
   "execution_count": 37,
   "metadata": {
    "collapsed": false
   },
   "outputs": [
    {
     "name": "stdout",
     "output_type": "stream",
     "text": [
      "shape of co-occurrence matrix: (1115, 1115)\n",
      "non-zero co-occurrences:\n",
      " [[   0   12]\n",
      " [   0   41]\n",
      " [   0   55]\n",
      " ...\n",
      " [1114  701]\n",
      " [1114  881]\n",
      " [1114 1025]]\n"
     ]
    }
   ],
   "source": [
    "# \"Unless otherwise noted, we use a context of ten words to the left and\n",
    "# ten words to the right.\"\n",
    "CONTEXT_SIZE = 10\n",
    "\n",
    "# Construct co-occurence matrix\n",
    "co_occ_mat = np.zeros((vocab_size, vocab_size))\n",
    "for i in range(len_token_text):\n",
    "    for dist in range(1, CONTEXT_SIZE + 1):\n",
    "        ix = word_to_ix[token_text[i]]\n",
    "        if i - dist > 0:\n",
    "            left_ix = word_to_ix[token_text[i - dist]]\n",
    "            co_occ_mat[ix, left_ix] += 1.0 / dist\n",
    "        if i + dist < len_token_text:\n",
    "            right_ix = word_to_ix[token_text[i + dist]]\n",
    "            co_occ_mat[ix, right_ix] += 1.0 / dist\n",
    "\n",
    "# Non-zero co-occurrences\n",
    "# https://docs.scipy.org/doc/numpy-1.15.0/reference/generated/numpy.nonzero.html\n",
    "# returns a 2-D array, with a row for each non-zero element            \n",
    "co_occs = np.transpose(np.nonzero(co_occ_mat))\n",
    "\n",
    "print(\"shape of co-occurrence matrix:\", co_occ_mat.shape)\n",
    "print(\"non-zero co-occurrences:\\n\", co_occs)"
   ]
  },
  {
   "cell_type": "markdown",
   "metadata": {},
   "source": [
    "#### Define model"
   ]
  },
  {
   "cell_type": "code",
   "execution_count": 38,
   "metadata": {
    "collapsed": true
   },
   "outputs": [],
   "source": [
    "#global variables\n",
    "\n",
    "EMBEDDING_SIZE = 50\n",
    "\n",
    "# \"For all our experiments, we set x_max = 100, alpha = 3/4\"\n",
    "X_MAX = 100\n",
    "ALPHA = 0.75"
   ]
  },
  {
   "cell_type": "code",
   "execution_count": 39,
   "metadata": {
    "collapsed": true
   },
   "outputs": [],
   "source": [
    "class Glove(nn.Module):\n",
    "\n",
    "    def __init__(self, vocab_size, comat, embedding_size, x_max, alpha):\n",
    "        super(Glove, self).__init__()\n",
    "        \n",
    "        # embedding matrices\n",
    "        self.embedding_V = nn.Embedding(vocab_size, embedding_size) # embedding matrix of center words\n",
    "        self.embedding_U = nn.Embedding(vocab_size, embedding_size) # embedding matrix of context words\n",
    "\n",
    "        # biases\n",
    "        self.v_bias = nn.Embedding(vocab_size, 1)\n",
    "        self.u_bias = nn.Embedding(vocab_size, 1)\n",
    "        \n",
    "        # initialize all params\n",
    "        for params in self.parameters():\n",
    "            nn.init.uniform_(params, a = -0.5, b = 0.5)\n",
    "            \n",
    "        #hyperparams\n",
    "        self.x_max = x_max\n",
    "        self.alpha = alpha\n",
    "        self.comat = comat\n",
    "    \n",
    "    def forward(self, center_word_lookup, context_word_lookup):\n",
    "        # indexing into the embedding matrices\n",
    "        center_embed = self.embedding_V(center_word_lookup)\n",
    "        target_embed = self.embedding_U(context_word_lookup)\n",
    "\n",
    "        center_bias = self.v_bias(center_word_lookup).squeeze(1)\n",
    "        target_bias = self.u_bias(context_word_lookup).squeeze(1)\n",
    "\n",
    "        # elements of the co-occurence matrix\n",
    "        co_occurrences = torch.tensor([self.comat[center_word_lookup[i].item(), context_word_lookup[i].item()]\n",
    "                                       for i in range(BATCH_SIZE)])\n",
    "        \n",
    "        # weight_fn applied to non-zero co-occurrences\n",
    "        weights = torch.tensor([self.weight_fn(var) for var in co_occurrences])\n",
    "\n",
    "        # the loss as described in the paper\n",
    "        loss = torch.sum(torch.pow((torch.sum(center_embed * target_embed, dim=1)\n",
    "            + center_bias + target_bias) - torch.log(co_occurrences), 2) * weights)\n",
    "        \n",
    "        return loss\n",
    "        \n",
    "    def weight_fn(self, x):\n",
    "        # the proposed weighting fn\n",
    "        if x < self.x_max:\n",
    "            return (x / self.x_max) ** self.alpha\n",
    "        return 1\n",
    "        \n",
    "    def embeddings(self):\n",
    "        # \"we choose to use the sum W + W_tilde as our word vectors\"\n",
    "        return self.embedding_V.weight.data + self.embedding_U.weight.data"
   ]
  },
  {
   "cell_type": "code",
   "execution_count": 40,
   "metadata": {
    "collapsed": true
   },
   "outputs": [],
   "source": [
    "BATCH_SIZE = 32\n",
    "\n",
    "# Batch sampling function\n",
    "def gen_batch(model, batch_size=BATCH_SIZE):\n",
    "    \"\"\"\n",
    "    picks random indices for lookup in the embedding matrix\n",
    "    \"stochastically sampling non-zero elements from X [ie. the co-occurrence matrix]\"\n",
    "    \"\"\"\t\n",
    "    sample = np.random.choice(np.arange(len(co_occs)), size=batch_size, replace=False)\n",
    "    v_vecs_ix, u_vecs_ix = [], []\n",
    "    \n",
    "    for chosen in sample:\n",
    "        ind = tuple(co_occs[chosen])     \n",
    "        lookup_ix_v = ind[0]\n",
    "        lookup_ix_u = ind[1]\n",
    "        \n",
    "        v_vecs_ix.append(lookup_ix_v)\n",
    "        u_vecs_ix.append(lookup_ix_u) \n",
    "        \n",
    "    return torch.tensor(v_vecs_ix), torch.tensor(u_vecs_ix)"
   ]
  },
  {
   "cell_type": "markdown",
   "metadata": {},
   "source": [
    "#### Training"
   ]
  },
  {
   "cell_type": "code",
   "execution_count": 41,
   "metadata": {
    "collapsed": true
   },
   "outputs": [],
   "source": [
    "# \"[we] train the model using AdaGrad, [...] with initial learning rate of 0.05\"\n",
    "LEARNING_RATE = 0.05\n",
    "\n",
    "# \"we run 50 iterations for vectors smaller than 300 dimensions [...]\"\n",
    "EPOCHS = 50\n",
    "\n",
    "def train_glove(comat):\n",
    "    losses = []\n",
    "    model = Glove(vocab_size, comat, embedding_size=EMBEDDING_SIZE, x_max=X_MAX, alpha=ALPHA)\n",
    "    optimizer = optim.Adagrad(model.parameters(), lr = LEARNING_RATE)\n",
    "    \n",
    "    for epoch in range(EPOCHS):\n",
    "        total_loss = 0\n",
    "        num_batches = int(len_token_text/BATCH_SIZE)\n",
    "        print(\"Beginning epoch %d\" %epoch)\n",
    "        for batch in tqdm(range(num_batches)):\n",
    "            model.zero_grad()\n",
    "            data = gen_batch(model, BATCH_SIZE)\n",
    "            loss = model(*data)\n",
    "            loss.backward()\n",
    "            optimizer.step()\n",
    "            total_loss += loss.item()\n",
    "        losses.append(total_loss)\n",
    "        print('Epoch : %d, mean loss : %.02f' % (epoch, np.mean(losses)))\n",
    "    return model, losses "
   ]
  },
  {
   "cell_type": "code",
   "execution_count": 42,
   "metadata": {
    "collapsed": false
   },
   "outputs": [
    {
     "name": "stdout",
     "output_type": "stream",
     "text": [
      "Beginning epoch 0\n"
     ]
    },
    {
     "name": "stderr",
     "output_type": "stream",
     "text": [
      "100%|███████████████████████████████████████| 172/172 [00:01<00:00, 113.08it/s]\n"
     ]
    },
    {
     "name": "stdout",
     "output_type": "stream",
     "text": [
      "Epoch : 0, mean loss : 205.01\n",
      "Beginning epoch 1\n"
     ]
    },
    {
     "name": "stderr",
     "output_type": "stream",
     "text": [
      "100%|███████████████████████████████████████| 172/172 [00:01<00:00, 120.69it/s]\n"
     ]
    },
    {
     "name": "stdout",
     "output_type": "stream",
     "text": [
      "Epoch : 1, mean loss : 204.41\n",
      "Beginning epoch 2\n"
     ]
    },
    {
     "name": "stderr",
     "output_type": "stream",
     "text": [
      "100%|███████████████████████████████████████| 172/172 [00:01<00:00, 120.53it/s]\n"
     ]
    },
    {
     "name": "stdout",
     "output_type": "stream",
     "text": [
      "Epoch : 2, mean loss : 200.28\n",
      "Beginning epoch 3\n"
     ]
    },
    {
     "name": "stderr",
     "output_type": "stream",
     "text": [
      "100%|███████████████████████████████████████| 172/172 [00:01<00:00, 120.95it/s]\n"
     ]
    },
    {
     "name": "stdout",
     "output_type": "stream",
     "text": [
      "Epoch : 3, mean loss : 195.47\n",
      "Beginning epoch 4\n"
     ]
    },
    {
     "name": "stderr",
     "output_type": "stream",
     "text": [
      "100%|████████████████████████████████████████| 172/172 [00:01<00:00, 86.78it/s]\n"
     ]
    },
    {
     "name": "stdout",
     "output_type": "stream",
     "text": [
      "Epoch : 4, mean loss : 195.80\n",
      "Beginning epoch 5\n"
     ]
    },
    {
     "name": "stderr",
     "output_type": "stream",
     "text": [
      "100%|███████████████████████████████████████| 172/172 [00:01<00:00, 100.29it/s]\n"
     ]
    },
    {
     "name": "stdout",
     "output_type": "stream",
     "text": [
      "Epoch : 5, mean loss : 188.49\n",
      "Beginning epoch 6\n"
     ]
    },
    {
     "name": "stderr",
     "output_type": "stream",
     "text": [
      "100%|███████████████████████████████████████| 172/172 [00:01<00:00, 102.01it/s]\n"
     ]
    },
    {
     "name": "stdout",
     "output_type": "stream",
     "text": [
      "Epoch : 6, mean loss : 186.98\n",
      "Beginning epoch 7\n"
     ]
    },
    {
     "name": "stderr",
     "output_type": "stream",
     "text": [
      "100%|███████████████████████████████████████| 172/172 [00:01<00:00, 115.51it/s]\n"
     ]
    },
    {
     "name": "stdout",
     "output_type": "stream",
     "text": [
      "Epoch : 7, mean loss : 178.71\n",
      "Beginning epoch 8\n"
     ]
    },
    {
     "name": "stderr",
     "output_type": "stream",
     "text": [
      "100%|███████████████████████████████████████| 172/172 [00:01<00:00, 116.67it/s]\n"
     ]
    },
    {
     "name": "stdout",
     "output_type": "stream",
     "text": [
      "Epoch : 8, mean loss : 173.80\n",
      "Beginning epoch 9\n"
     ]
    },
    {
     "name": "stderr",
     "output_type": "stream",
     "text": [
      "100%|███████████████████████████████████████| 172/172 [00:01<00:00, 112.71it/s]\n"
     ]
    },
    {
     "name": "stdout",
     "output_type": "stream",
     "text": [
      "Epoch : 9, mean loss : 166.81\n",
      "Beginning epoch 10\n"
     ]
    },
    {
     "name": "stderr",
     "output_type": "stream",
     "text": [
      "100%|███████████████████████████████████████| 172/172 [00:01<00:00, 112.05it/s]\n"
     ]
    },
    {
     "name": "stdout",
     "output_type": "stream",
     "text": [
      "Epoch : 10, mean loss : 161.67\n",
      "Beginning epoch 11\n"
     ]
    },
    {
     "name": "stderr",
     "output_type": "stream",
     "text": [
      "100%|███████████████████████████████████████| 172/172 [00:01<00:00, 116.29it/s]\n"
     ]
    },
    {
     "name": "stdout",
     "output_type": "stream",
     "text": [
      "Epoch : 11, mean loss : 158.75\n",
      "Beginning epoch 12\n"
     ]
    },
    {
     "name": "stderr",
     "output_type": "stream",
     "text": [
      "100%|████████████████████████████████████████| 172/172 [00:02<00:00, 84.98it/s]\n"
     ]
    },
    {
     "name": "stdout",
     "output_type": "stream",
     "text": [
      "Epoch : 12, mean loss : 153.76\n",
      "Beginning epoch 13\n"
     ]
    },
    {
     "name": "stderr",
     "output_type": "stream",
     "text": [
      "100%|███████████████████████████████████████| 172/172 [00:01<00:00, 109.83it/s]\n"
     ]
    },
    {
     "name": "stdout",
     "output_type": "stream",
     "text": [
      "Epoch : 13, mean loss : 150.61\n",
      "Beginning epoch 14\n"
     ]
    },
    {
     "name": "stderr",
     "output_type": "stream",
     "text": [
      "100%|███████████████████████████████████████| 172/172 [00:01<00:00, 106.63it/s]\n"
     ]
    },
    {
     "name": "stdout",
     "output_type": "stream",
     "text": [
      "Epoch : 14, mean loss : 146.78\n",
      "Beginning epoch 15\n"
     ]
    },
    {
     "name": "stderr",
     "output_type": "stream",
     "text": [
      "100%|███████████████████████████████████████| 172/172 [00:01<00:00, 114.74it/s]\n"
     ]
    },
    {
     "name": "stdout",
     "output_type": "stream",
     "text": [
      "Epoch : 15, mean loss : 144.27\n",
      "Beginning epoch 16\n"
     ]
    },
    {
     "name": "stderr",
     "output_type": "stream",
     "text": [
      "100%|███████████████████████████████████████| 172/172 [00:01<00:00, 111.90it/s]\n"
     ]
    },
    {
     "name": "stdout",
     "output_type": "stream",
     "text": [
      "Epoch : 16, mean loss : 140.59\n",
      "Beginning epoch 17\n"
     ]
    },
    {
     "name": "stderr",
     "output_type": "stream",
     "text": [
      "100%|███████████████████████████████████████| 172/172 [00:01<00:00, 112.34it/s]\n"
     ]
    },
    {
     "name": "stdout",
     "output_type": "stream",
     "text": [
      "Epoch : 17, mean loss : 138.14\n",
      "Beginning epoch 18\n"
     ]
    },
    {
     "name": "stderr",
     "output_type": "stream",
     "text": [
      "100%|███████████████████████████████████████| 172/172 [00:01<00:00, 110.32it/s]\n"
     ]
    },
    {
     "name": "stdout",
     "output_type": "stream",
     "text": [
      "Epoch : 18, mean loss : 135.28\n",
      "Beginning epoch 19\n"
     ]
    },
    {
     "name": "stderr",
     "output_type": "stream",
     "text": [
      "100%|███████████████████████████████████████| 172/172 [00:01<00:00, 110.89it/s]\n"
     ]
    },
    {
     "name": "stdout",
     "output_type": "stream",
     "text": [
      "Epoch : 19, mean loss : 133.32\n",
      "Beginning epoch 20\n"
     ]
    },
    {
     "name": "stderr",
     "output_type": "stream",
     "text": [
      "100%|███████████████████████████████████████| 172/172 [00:01<00:00, 115.35it/s]\n"
     ]
    },
    {
     "name": "stdout",
     "output_type": "stream",
     "text": [
      "Epoch : 20, mean loss : 130.29\n",
      "Beginning epoch 21\n"
     ]
    },
    {
     "name": "stderr",
     "output_type": "stream",
     "text": [
      "100%|███████████████████████████████████████| 172/172 [00:01<00:00, 107.36it/s]\n"
     ]
    },
    {
     "name": "stdout",
     "output_type": "stream",
     "text": [
      "Epoch : 21, mean loss : 127.46\n",
      "Beginning epoch 22\n"
     ]
    },
    {
     "name": "stderr",
     "output_type": "stream",
     "text": [
      "100%|███████████████████████████████████████| 172/172 [00:01<00:00, 114.66it/s]\n"
     ]
    },
    {
     "name": "stdout",
     "output_type": "stream",
     "text": [
      "Epoch : 22, mean loss : 124.78\n",
      "Beginning epoch 23\n"
     ]
    },
    {
     "name": "stderr",
     "output_type": "stream",
     "text": [
      "100%|███████████████████████████████████████| 172/172 [00:01<00:00, 115.58it/s]\n"
     ]
    },
    {
     "name": "stdout",
     "output_type": "stream",
     "text": [
      "Epoch : 23, mean loss : 122.25\n",
      "Beginning epoch 24\n"
     ]
    },
    {
     "name": "stderr",
     "output_type": "stream",
     "text": [
      "100%|███████████████████████████████████████| 172/172 [00:01<00:00, 106.04it/s]\n"
     ]
    },
    {
     "name": "stdout",
     "output_type": "stream",
     "text": [
      "Epoch : 24, mean loss : 120.11\n",
      "Beginning epoch 25\n"
     ]
    },
    {
     "name": "stderr",
     "output_type": "stream",
     "text": [
      "100%|███████████████████████████████████████| 172/172 [00:01<00:00, 100.29it/s]\n"
     ]
    },
    {
     "name": "stdout",
     "output_type": "stream",
     "text": [
      "Epoch : 25, mean loss : 117.81\n",
      "Beginning epoch 26\n"
     ]
    },
    {
     "name": "stderr",
     "output_type": "stream",
     "text": [
      "100%|███████████████████████████████████████| 172/172 [00:01<00:00, 117.17it/s]\n"
     ]
    },
    {
     "name": "stdout",
     "output_type": "stream",
     "text": [
      "Epoch : 26, mean loss : 115.85\n",
      "Beginning epoch 27\n"
     ]
    },
    {
     "name": "stderr",
     "output_type": "stream",
     "text": [
      "100%|███████████████████████████████████████| 172/172 [00:01<00:00, 122.49it/s]\n"
     ]
    },
    {
     "name": "stdout",
     "output_type": "stream",
     "text": [
      "Epoch : 27, mean loss : 113.76\n",
      "Beginning epoch 28\n"
     ]
    },
    {
     "name": "stderr",
     "output_type": "stream",
     "text": [
      "100%|███████████████████████████████████████| 172/172 [00:01<00:00, 123.98it/s]\n"
     ]
    },
    {
     "name": "stdout",
     "output_type": "stream",
     "text": [
      "Epoch : 28, mean loss : 111.81\n",
      "Beginning epoch 29\n"
     ]
    },
    {
     "name": "stderr",
     "output_type": "stream",
     "text": [
      "100%|███████████████████████████████████████| 172/172 [00:01<00:00, 120.73it/s]\n"
     ]
    },
    {
     "name": "stdout",
     "output_type": "stream",
     "text": [
      "Epoch : 29, mean loss : 109.99\n",
      "Beginning epoch 30\n"
     ]
    },
    {
     "name": "stderr",
     "output_type": "stream",
     "text": [
      "100%|███████████████████████████████████████| 172/172 [00:01<00:00, 119.18it/s]\n"
     ]
    },
    {
     "name": "stdout",
     "output_type": "stream",
     "text": [
      "Epoch : 30, mean loss : 108.17\n",
      "Beginning epoch 31\n"
     ]
    },
    {
     "name": "stderr",
     "output_type": "stream",
     "text": [
      "100%|███████████████████████████████████████| 172/172 [00:01<00:00, 104.30it/s]\n"
     ]
    },
    {
     "name": "stdout",
     "output_type": "stream",
     "text": [
      "Epoch : 31, mean loss : 106.56\n",
      "Beginning epoch 32\n"
     ]
    },
    {
     "name": "stderr",
     "output_type": "stream",
     "text": [
      "100%|███████████████████████████████████████| 172/172 [00:01<00:00, 111.90it/s]\n"
     ]
    },
    {
     "name": "stdout",
     "output_type": "stream",
     "text": [
      "Epoch : 32, mean loss : 104.88\n",
      "Beginning epoch 33\n"
     ]
    },
    {
     "name": "stderr",
     "output_type": "stream",
     "text": [
      "100%|███████████████████████████████████████| 172/172 [00:01<00:00, 113.52it/s]\n"
     ]
    },
    {
     "name": "stdout",
     "output_type": "stream",
     "text": [
      "Epoch : 33, mean loss : 103.37\n",
      "Beginning epoch 34\n"
     ]
    },
    {
     "name": "stderr",
     "output_type": "stream",
     "text": [
      "100%|███████████████████████████████████████| 172/172 [00:01<00:00, 103.05it/s]\n"
     ]
    },
    {
     "name": "stdout",
     "output_type": "stream",
     "text": [
      "Epoch : 34, mean loss : 101.96\n",
      "Beginning epoch 35\n"
     ]
    },
    {
     "name": "stderr",
     "output_type": "stream",
     "text": [
      "100%|███████████████████████████████████████| 172/172 [00:01<00:00, 103.30it/s]\n"
     ]
    },
    {
     "name": "stdout",
     "output_type": "stream",
     "text": [
      "Epoch : 35, mean loss : 100.53\n",
      "Beginning epoch 36\n"
     ]
    },
    {
     "name": "stderr",
     "output_type": "stream",
     "text": [
      "100%|███████████████████████████████████████| 172/172 [00:01<00:00, 119.50it/s]\n"
     ]
    },
    {
     "name": "stdout",
     "output_type": "stream",
     "text": [
      "Epoch : 36, mean loss : 99.03\n",
      "Beginning epoch 37\n"
     ]
    },
    {
     "name": "stderr",
     "output_type": "stream",
     "text": [
      "100%|███████████████████████████████████████| 172/172 [00:01<00:00, 108.03it/s]\n"
     ]
    },
    {
     "name": "stdout",
     "output_type": "stream",
     "text": [
      "Epoch : 37, mean loss : 97.61\n",
      "Beginning epoch 38\n"
     ]
    },
    {
     "name": "stderr",
     "output_type": "stream",
     "text": [
      "100%|████████████████████████████████████████| 172/172 [00:01<00:00, 99.59it/s]\n"
     ]
    },
    {
     "name": "stdout",
     "output_type": "stream",
     "text": [
      "Epoch : 38, mean loss : 96.38\n",
      "Beginning epoch 39\n"
     ]
    },
    {
     "name": "stderr",
     "output_type": "stream",
     "text": [
      "100%|███████████████████████████████████████| 172/172 [00:01<00:00, 117.96it/s]\n"
     ]
    },
    {
     "name": "stdout",
     "output_type": "stream",
     "text": [
      "Epoch : 39, mean loss : 95.09\n",
      "Beginning epoch 40\n"
     ]
    },
    {
     "name": "stderr",
     "output_type": "stream",
     "text": [
      "100%|███████████████████████████████████████| 172/172 [00:01<00:00, 103.17it/s]\n"
     ]
    },
    {
     "name": "stdout",
     "output_type": "stream",
     "text": [
      "Epoch : 40, mean loss : 93.89\n",
      "Beginning epoch 41\n"
     ]
    },
    {
     "name": "stderr",
     "output_type": "stream",
     "text": [
      "100%|███████████████████████████████████████| 172/172 [00:01<00:00, 117.73it/s]\n"
     ]
    },
    {
     "name": "stdout",
     "output_type": "stream",
     "text": [
      "Epoch : 41, mean loss : 92.70\n",
      "Beginning epoch 42\n"
     ]
    },
    {
     "name": "stderr",
     "output_type": "stream",
     "text": [
      "100%|███████████████████████████████████████| 172/172 [00:01<00:00, 120.19it/s]\n"
     ]
    },
    {
     "name": "stdout",
     "output_type": "stream",
     "text": [
      "Epoch : 42, mean loss : 91.55\n",
      "Beginning epoch 43\n"
     ]
    },
    {
     "name": "stderr",
     "output_type": "stream",
     "text": [
      "100%|███████████████████████████████████████| 172/172 [00:01<00:00, 123.56it/s]\n"
     ]
    },
    {
     "name": "stdout",
     "output_type": "stream",
     "text": [
      "Epoch : 43, mean loss : 90.48\n",
      "Beginning epoch 44\n"
     ]
    },
    {
     "name": "stderr",
     "output_type": "stream",
     "text": [
      "100%|███████████████████████████████████████| 172/172 [00:01<00:00, 121.03it/s]\n"
     ]
    },
    {
     "name": "stdout",
     "output_type": "stream",
     "text": [
      "Epoch : 44, mean loss : 89.42\n",
      "Beginning epoch 45\n"
     ]
    },
    {
     "name": "stderr",
     "output_type": "stream",
     "text": [
      "100%|███████████████████████████████████████| 172/172 [00:01<00:00, 119.52it/s]\n"
     ]
    },
    {
     "name": "stdout",
     "output_type": "stream",
     "text": [
      "Epoch : 45, mean loss : 88.36\n",
      "Beginning epoch 46\n"
     ]
    },
    {
     "name": "stderr",
     "output_type": "stream",
     "text": [
      "100%|███████████████████████████████████████| 172/172 [00:01<00:00, 111.83it/s]\n"
     ]
    },
    {
     "name": "stdout",
     "output_type": "stream",
     "text": [
      "Epoch : 46, mean loss : 87.33\n",
      "Beginning epoch 47\n"
     ]
    },
    {
     "name": "stderr",
     "output_type": "stream",
     "text": [
      "100%|███████████████████████████████████████| 172/172 [00:01<00:00, 107.09it/s]\n"
     ]
    },
    {
     "name": "stdout",
     "output_type": "stream",
     "text": [
      "Epoch : 47, mean loss : 86.38\n",
      "Beginning epoch 48\n"
     ]
    },
    {
     "name": "stderr",
     "output_type": "stream",
     "text": [
      "100%|███████████████████████████████████████| 172/172 [00:01<00:00, 109.83it/s]\n"
     ]
    },
    {
     "name": "stdout",
     "output_type": "stream",
     "text": [
      "Epoch : 48, mean loss : 85.42\n",
      "Beginning epoch 49\n"
     ]
    },
    {
     "name": "stderr",
     "output_type": "stream",
     "text": [
      "100%|███████████████████████████████████████| 172/172 [00:01<00:00, 111.03it/s]\n"
     ]
    },
    {
     "name": "stdout",
     "output_type": "stream",
     "text": [
      "Epoch : 49, mean loss : 84.52\n"
     ]
    }
   ],
   "source": [
    "model, losses = train_glove(co_occ_mat)"
   ]
  },
  {
   "cell_type": "code",
   "execution_count": 43,
   "metadata": {
    "collapsed": false
   },
   "outputs": [
    {
     "data": {
      "image/png": "[encoded data removed]",
      "text/plain": [
       "<matplotlib.figure.Figure at 0x100c1b00>"
      ]
     },
     "metadata": {},
     "output_type": "display_data"
    },
    {
     "data": {
      "text/plain": [
       "<matplotlib.figure.Figure at 0x10034828>"
      ]
     },
     "metadata": {},
     "output_type": "display_data"
    }
   ],
   "source": [
    "# Plot loss fn\n",
    "def plot_loss_fn(losses, title):\n",
    "    plt.plot(range(len(losses)), losses)\n",
    "    plt.xlabel('Epoch')\n",
    "    plt.ylabel('Loss')\n",
    "    plt.title(title)\n",
    "    plt.figure()\n",
    "\n",
    "plot_loss_fn(losses, \"GloVe loss function\")"
   ]
  },
  {
   "cell_type": "markdown",
   "metadata": {
    "collapsed": true
   },
   "source": [
    "#### Tests: word similarity, word analogies"
   ]
  },
  {
   "cell_type": "code",
   "execution_count": 44,
   "metadata": {
    "collapsed": true
   },
   "outputs": [],
   "source": [
    "def get_word(word, model, word_to_ix):\n",
    "    \"\"\"\n",
    "    returns the embedding that belongs to the given word (str)\n",
    "    \"\"\"\n",
    "    return model.embeddings()[word_to_ix[word]]"
   ]
  },
  {
   "cell_type": "code",
   "execution_count": 45,
   "metadata": {
    "collapsed": false
   },
   "outputs": [
    {
     "name": "stdout",
     "output_type": "stream",
     "text": [
      "tensor([ 0.3648, -0.0519, -0.0263, -0.5178,  0.0834, -0.0161,  0.5632,  0.6154,\n",
      "        -0.5049,  0.2271,  0.3217,  0.0170,  0.0616,  0.1479,  0.6156, -0.0939,\n",
      "        -0.2456,  0.0683,  0.1398,  0.2605,  0.0317, -0.3788,  0.0700,  0.8735,\n",
      "         0.4004,  0.4227, -0.2359,  0.1729, -0.4364, -0.0402, -0.3067, -0.6184,\n",
      "         0.3040, -0.0342,  0.3564,  0.2884,  0.1523,  0.8375,  0.3730,  0.3199,\n",
      "        -0.1104, -0.2765, -0.1177,  0.3219,  0.3092, -0.6014, -0.5400, -0.7912,\n",
      "        -0.5602,  0.0829])\n"
     ]
    }
   ],
   "source": [
    "vector = get_word(\"lupov\", model, word_to_ix)\n",
    "print(vector)"
   ]
  },
  {
   "cell_type": "code",
   "execution_count": 46,
   "metadata": {
    "collapsed": true
   },
   "outputs": [],
   "source": [
    "def closest(vec, word_to_ix, n=10):\n",
    "    \"\"\"\n",
    "    finds the closest words for a given vector\n",
    "    \"\"\"\n",
    "    all_dists = [(w, torch.dist(vec, get_word(w, model, word_to_ix))) for w in word_to_ix]\n",
    "    return sorted(all_dists, key=lambda t: t[1])[:n]"
   ]
  },
  {
   "cell_type": "code",
   "execution_count": 47,
   "metadata": {
    "collapsed": false
   },
   "outputs": [
    {
     "data": {
      "text/plain": [
       "[('lupov', tensor(0.)),\n",
       " ('two', tensor(2.9694)),\n",
       " ('world', tensor(3.0176)),\n",
       " ('clickings', tensor(3.0212)),\n",
       " ('circuits', tensor(3.0248)),\n",
       " ('man', tensor(3.0657)),\n",
       " ('when', tensor(3.0771)),\n",
       " ('still', tensor(3.1216)),\n",
       " ('questions', tensor(3.2087)),\n",
       " ('face', tensor(3.2146))]"
      ]
     },
     "execution_count": 47,
     "metadata": {},
     "output_type": "execute_result"
    }
   ],
   "source": [
    "closest(vector, word_to_ix)"
   ]
  },
  {
   "cell_type": "code",
   "execution_count": 48,
   "metadata": {
    "collapsed": true
   },
   "outputs": [],
   "source": [
    "# some helper fn\n",
    "def print_tuples(tuples):\n",
    "    for tuple in tuples:\n",
    "        print('(%.4f) %s' % (tuple[1], tuple[0]))"
   ]
  },
  {
   "cell_type": "code",
   "execution_count": 49,
   "metadata": {
    "collapsed": true
   },
   "outputs": [],
   "source": [
    "# word analogies in the form w1 : w2 :: w3 : ?\n",
    "def analogy(w1, w2, w3, n=5, filter_given=True):\n",
    "    print('\\n[%s : %s :: %s : ?]' % (w1, w2, w3))\n",
    "   \n",
    "    # w2 - w1 + w3 = w4\n",
    "    closest_words = closest(get_word(w2, model, word_to_ix) - get_word(w1, model, word_to_ix) + get_word(w3, model, word_to_ix), word_to_ix)\n",
    "    \n",
    "    # Optionally filter out given words\n",
    "    if filter_given:\n",
    "        closest_words = [t for t in closest_words if t[0] not in [w1, w2, w3]]\n",
    "        \n",
    "    print_tuples(closest_words[:n])"
   ]
  },
  {
   "cell_type": "code",
   "execution_count": 50,
   "metadata": {
    "collapsed": false
   },
   "outputs": [
    {
     "name": "stdout",
     "output_type": "stream",
     "text": [
      "\n",
      "[lupov : adell :: multivac : ?]\n",
      "(4.2572) you\n",
      "(4.2825) at\n",
      "(4.4366) i\n",
      "(4.5461) that\n",
      "(4.5582) now\n"
     ]
    }
   ],
   "source": [
    "analogy(\"lupov\", \"adell\", \"multivac\")"
   ]
  },
  {
   "cell_type": "code",
   "execution_count": null,
   "metadata": {
    "collapsed": true
   },
   "outputs": [],
   "source": []
  }
 ],
 "metadata": {
  "anaconda-cloud": {},
  "kernelspec": {
   "display_name": "Python [Root]",
   "language": "python",
   "name": "Python [Root]"
  },
  "language_info": {
   "codemirror_mode": {
    "name": "ipython",
    "version": 3
   },
   "file_extension": ".py",
   "mimetype": "text/x-python",
   "name": "python",
   "nbconvert_exporter": "python",
   "pygments_lexer": "ipython3",
   "version": "3.5.6"
  }
 },
 "nbformat": 4,
 "nbformat_minor": 0
}
